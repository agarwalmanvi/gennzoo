{
 "cells": [
  {
   "cell_type": "markdown",
   "metadata": {},
   "source": [
    "# Timed spikes experiment 2b"
   ]
  },
  {
   "cell_type": "code",
   "execution_count": 1,
   "metadata": {},
   "outputs": [
    {
     "name": "stdout",
     "output_type": "stream",
     "text": [
      "(20, 1600)\n"
     ]
    }
   ],
   "source": [
    "from config.plot_config import plot_rcparams\n",
    "import matplotlib.pyplot as plt\n",
    "import pickle as pkl\n",
    "from matplotlib import rcParams\n",
    "import numpy as np\n",
    "import os\n",
    "\n",
    "rcParams.update(plot_rcparams)\n",
    "pkl_name = 'symmetric_avgsqerr'\n",
    "with open(pkl_name+'.pkl', 'rb') as f:\n",
    "    avgsqerr = pkl.load(f)\n",
    "    \n",
    "print(avgsqerr.shape)"
   ]
  },
  {
   "cell_type": "code",
   "execution_count": 2,
   "metadata": {},
   "outputs": [],
   "source": [
    "fig, ax = plt.subplots(figsize=(6,4))\n",
    "x = list(range(avgsqerr.shape[1]))\n",
    "for i in range(avgsqerr.shape[0]):\n",
    "    ax.plot(x, avgsqerr[i, :], color=\"gray\", alpha=0.4)\n",
    "mean_loss = np.mean(avgsqerr, axis=0)\n",
    "ax.plot(x, mean_loss, color=\"black\", alpha=0.7, linestyle=\"dashed\")\n",
    "ax.set_xlabel(\"Time [trials]\")\n",
    "ax.set_ylabel(\"Cost\")\n",
    "fig.tight_layout()\n",
    "# fig.show()\n",
    "\n",
    "IMG_DIR = \"imgs_exp2\"\n",
    "save_filename = os.path.join(IMG_DIR, pkl_name+\".png\")\n",
    "plt.savefig(save_filename)\n",
    "plt.close()"
   ]
  },
  {
   "cell_type": "code",
   "execution_count": null,
   "metadata": {},
   "outputs": [],
   "source": []
  }
 ],
 "metadata": {
  "kernelspec": {
   "display_name": "Python 3",
   "language": "python",
   "name": "python3"
  },
  "language_info": {
   "codemirror_mode": {
    "name": "ipython",
    "version": 3
   },
   "file_extension": ".py",
   "mimetype": "text/x-python",
   "name": "python",
   "nbconvert_exporter": "python",
   "pygments_lexer": "ipython3",
   "version": "3.7.7"
  }
 },
 "nbformat": 4,
 "nbformat_minor": 4
}
